{
 "cells": [
  {
   "cell_type": "markdown",
   "metadata": {},
   "source": [
    "<i>DISCLAIMER:<br>\n",
    "Bellow code is only for informative purpose, i renounce any responsibility regarding this code and bellow trained model causing loss of money during trading on real market.</i>"
   ]
  },
  {
   "cell_type": "markdown",
   "metadata": {},
   "source": [
    "# Stock price prediction : NVDA"
   ]
  },
  {
   "cell_type": "markdown",
   "metadata": {},
   "source": [
    "This page does following:\n",
    "\n",
    "- Libraries and trained model from previous step are loaded\n",
    "\n",
    "- Defined customized functions as well as loss function\n",
    "\n",
    "- Data are pulled, indicators are applied and prediction is made"
   ]
  },
  {
   "cell_type": "markdown",
   "metadata": {},
   "source": [
    "<b>Import libraries and customized loss function and define customized function</b>\n",
    "\n",
    "Bellow code defines customized function that are processing loaded data from stock market and makes prediction. Dataframe is normalized and reverted back via following formulas\n",
    "\n",
    "<i>Linear scaling formula: x ′ = ( x − x m i n ) / ( x m a x − x m i n )</i><br>\n",
    "<i>Reverse linear scaling: x = (x * (maxv-minv)) + minv</i>"
   ]
  },
  {
   "cell_type": "code",
   "execution_count": 1,
   "metadata": {},
   "outputs": [],
   "source": [
    "#Libraries\n",
    "import tensorflow as tf\n",
    "import yfinance as yf\n",
    "import talib\n",
    "import matplotlib.pyplot as plt\n",
    "import numpy as np\n",
    "import pandas as pd\n",
    "\n",
    "#Customized loss function\n",
    "def sign_penalty(y_true,y_pred):\n",
    "    penalty = 100.\n",
    "    loss = tf.where(tf.less(y_true*y_pred,0),\n",
    "                    penalty * tf.square(y_true-y_pred),\n",
    "                    tf.square(y_true - y_pred)\n",
    "                   )\n",
    "    \n",
    "    return(tf.reduce_mean(loss,axis=-1))\n",
    "\n",
    "tf.keras.losses.sign_penalty = sign_penalty\n",
    "\n",
    "#Customized functions\n",
    "def norm_df(pred1):\n",
    "    df_temp = pd.DataFrame()\n",
    "    try:\n",
    "        pred1 = pred1.drop('Date',axis=1)\n",
    "    except:\n",
    "        pass\n",
    "    pred_np = pred1.to_numpy()\n",
    "    maxv = np.max(pred_np)\n",
    "    minv = np.min(pred_np)\n",
    "    df_temp = (pred1.iloc[:,:]-minv)/(maxv-minv)\n",
    "    \n",
    "    return df_temp, maxv,minv\n",
    "def revert_df(df,maxv,minv):\n",
    "    df_temp = pd.DataFrame() \n",
    "    df_temp = (df.iloc[:,:]*(maxv-minv))+minv\n",
    "    \n",
    "    return df_temp\n",
    "def revert_prediction(value,maxv,minv):\n",
    "    \n",
    "    return (value * (maxv-minv))+minv\n",
    "\n",
    "def MakePred(series,model):\n",
    "    pr = series.to_numpy()\n",
    "    series2=np.array([[pr]])   \n",
    "    pred = tf.data.Dataset.from_tensor_slices(series2)\n",
    "    prediction = model.predict(pred)\n",
    "        \n",
    "    return prediction\n",
    "    \n",
    "def Predict(pred):\n",
    "    df_temp1, maxv, minv = norm_df(pred)\n",
    "    pr = MakePred(df_temp1,model)\n",
    "    prediction = revert_prediction(pr,maxv,minv)\n",
    "    prediction = np.squeeze(prediction)\n",
    "    \n",
    "    #print(\"Prediction is: \",prediction)\n",
    "    return prediction\n",
    "\n",
    "def Profit_calculation(budget, entry, prediction):\n",
    "    qty = round(budget / entry,0)\n",
    "    return (prediction - entry) * qty \n"
   ]
  },
  {
   "cell_type": "markdown",
   "metadata": {},
   "source": [
    "<b>Load trained model</b>"
   ]
  },
  {
   "cell_type": "code",
   "execution_count": 2,
   "metadata": {},
   "outputs": [
    {
     "data": {
      "text/plain": [
       "<keras.engine.sequential.Sequential at 0x251e167cfd0>"
      ]
     },
     "execution_count": 2,
     "metadata": {},
     "output_type": "execute_result"
    }
   ],
   "source": [
    "model = tf.keras.models.load_model('nvda_80_model_checkpoint.h5', custom_objects={'sign_penalty': sign_penalty} )\n",
    "model"
   ]
  },
  {
   "cell_type": "markdown",
   "metadata": {},
   "source": [
    "<b>Load data from stock market</b>\n",
    "\n",
    "Bellow code will load last 2 months of data via yahoo finance. Exponential moving averages are placed and formations are being selected. If condition is passed, we can run prediction, <b>if condition is not met, we should not trade today.</b>\n",
    "\n",
    "<b>Traded Formation</b><br>\n",
    "Condition 0: Last candle lower is higher than EMA6<br>\n",
    "Condition 1: Last EMA6 is lower than EMA12<br>"
   ]
  },
  {
   "cell_type": "code",
   "execution_count": null,
   "metadata": {},
   "outputs": [],
   "source": []
  },
  {
   "cell_type": "code",
   "execution_count": 13,
   "metadata": {},
   "outputs": [
    {
     "name": "stdout",
     "output_type": "stream",
     "text": [
      "Last Close:  169.74000549316406\n",
      "Last Open:  191.38999938964844\n",
      "Last High:  193.3699951171875\n",
      "First open:  180.33999633789062\n",
      "Last EMA6:  183.1159824966712\n",
      "Last EMA12:  197.40110882139098\n",
      "\n",
      "Trading condition passed, you can make prediction\n",
      "\n",
      "Entry price:  193.37\n"
     ]
    },
    {
     "name": "stderr",
     "output_type": "stream",
     "text": [
      "<ipython-input-13-4640eafb96fc>:9: SettingWithCopyWarning: \n",
      "A value is trying to be set on a copy of a slice from a DataFrame.\n",
      "Try using .loc[row_indexer,col_indexer] = value instead\n",
      "\n",
      "See the caveats in the documentation: https://pandas.pydata.org/pandas-docs/stable/user_guide/indexing.html#returning-a-view-versus-a-copy\n",
      "  stock['EMA6'] = talib.EMA(stock['Close'], timeperiod=6)\n",
      "<ipython-input-13-4640eafb96fc>:10: SettingWithCopyWarning: \n",
      "A value is trying to be set on a copy of a slice from a DataFrame.\n",
      "Try using .loc[row_indexer,col_indexer] = value instead\n",
      "\n",
      "See the caveats in the documentation: https://pandas.pydata.org/pandas-docs/stable/user_guide/indexing.html#returning-a-view-versus-a-copy\n",
      "  stock['EMA12'] = talib.EMA(stock['Close'], timeperiod=12)\n",
      "<ipython-input-13-4640eafb96fc>:11: SettingWithCopyWarning: \n",
      "A value is trying to be set on a copy of a slice from a DataFrame.\n",
      "Try using .loc[row_indexer,col_indexer] = value instead\n",
      "\n",
      "See the caveats in the documentation: https://pandas.pydata.org/pandas-docs/stable/user_guide/indexing.html#returning-a-view-versus-a-copy\n",
      "  stock['EMA24'] = talib.EMA(stock['Close'], timeperiod=24)\n"
     ]
    }
   ],
   "source": [
    "stock = yf.download('nvda', \n",
    "                      start='2021-01-27', \n",
    "                      end='2022-06-11', \n",
    "                      interval=\"1wk\",\n",
    "                      progress=False,\n",
    ")\n",
    "stock = stock.dropna(axis=0)\n",
    "#Set Indicators\n",
    "stock['EMA6'] = talib.EMA(stock['Close'], timeperiod=6)\n",
    "stock['EMA12'] = talib.EMA(stock['Close'], timeperiod=12)\n",
    "stock['EMA24'] = talib.EMA(stock['Close'], timeperiod=24)\n",
    "stock = stock.drop(labels=['Adj Close','Volume'],axis=1)\n",
    "\n",
    "#Reset index\n",
    "stock = stock.reset_index()\n",
    "\n",
    "#Get final dataframe\n",
    "trading_formation = stock.iloc[len(stock)-6:-1]\n",
    "\n",
    "print(\"Last Close: \",trading_formation.iloc[4,4])\n",
    "print(\"Last Open: \",trading_formation.iloc[4,1])\n",
    "print(\"Last High: \",trading_formation.iloc[4,2])\n",
    "print(\"First open: \",trading_formation.iloc[0,1])\n",
    "print(\"Last EMA6: \",trading_formation.iloc[4,5])\n",
    "print(\"Last EMA12: \",trading_formation.iloc[4,6])\n",
    "\n",
    "#Check condition\n",
    "#Trading Condition\n",
    "if (#Last close is lower than EMA6\n",
    "    (trading_formation.iloc[4,4] < trading_formation.iloc[4,5]) \n",
    "    #Last EMA6 is lower than EMA12        \n",
    "    and (trading_formation.iloc[4,5] < trading_formation.iloc[4,6])):\n",
    "\n",
    "                     \n",
    "    entry = trading_formation.iloc[4,2]\n",
    "    print(\"\\nTrading condition passed, you can make prediction\")\n",
    "    print(\"\\nEntry price: \",round(entry,4))\n",
    "else:\n",
    "    print(\"condition NOT passed, do NOT trade\")\n"
   ]
  },
  {
   "cell_type": "markdown",
   "metadata": {},
   "source": [
    "<b>Make Prediction</b>"
   ]
  },
  {
   "cell_type": "code",
   "execution_count": 14,
   "metadata": {},
   "outputs": [
    {
     "data": {
      "text/html": [
       "<div>\n",
       "<style scoped>\n",
       "    .dataframe tbody tr th:only-of-type {\n",
       "        vertical-align: middle;\n",
       "    }\n",
       "\n",
       "    .dataframe tbody tr th {\n",
       "        vertical-align: top;\n",
       "    }\n",
       "\n",
       "    .dataframe thead th {\n",
       "        text-align: right;\n",
       "    }\n",
       "</style>\n",
       "<table border=\"1\" class=\"dataframe\">\n",
       "  <thead>\n",
       "    <tr style=\"text-align: right;\">\n",
       "      <th></th>\n",
       "      <th>Date</th>\n",
       "      <th>Open</th>\n",
       "      <th>High</th>\n",
       "      <th>Low</th>\n",
       "      <th>Close</th>\n",
       "      <th>EMA6</th>\n",
       "      <th>EMA12</th>\n",
       "      <th>EMA24</th>\n",
       "    </tr>\n",
       "  </thead>\n",
       "  <tbody>\n",
       "    <tr>\n",
       "      <th>67</th>\n",
       "      <td>2022-05-09</td>\n",
       "      <td>180.339996</td>\n",
       "      <td>182.550003</td>\n",
       "      <td>155.669998</td>\n",
       "      <td>177.059998</td>\n",
       "      <td>198.269329</td>\n",
       "      <td>215.827986</td>\n",
       "      <td>229.070944</td>\n",
       "    </tr>\n",
       "    <tr>\n",
       "      <th>68</th>\n",
       "      <td>2022-05-16</td>\n",
       "      <td>175.089996</td>\n",
       "      <td>183.710007</td>\n",
       "      <td>157.550003</td>\n",
       "      <td>166.940002</td>\n",
       "      <td>189.318093</td>\n",
       "      <td>208.306758</td>\n",
       "      <td>224.100469</td>\n",
       "    </tr>\n",
       "    <tr>\n",
       "      <th>69</th>\n",
       "      <td>2022-05-23</td>\n",
       "      <td>162.740005</td>\n",
       "      <td>188.809998</td>\n",
       "      <td>157.800003</td>\n",
       "      <td>188.110001</td>\n",
       "      <td>188.972924</td>\n",
       "      <td>205.199565</td>\n",
       "      <td>221.221231</td>\n",
       "    </tr>\n",
       "    <tr>\n",
       "      <th>70</th>\n",
       "      <td>2022-05-30</td>\n",
       "      <td>189.800003</td>\n",
       "      <td>196.190002</td>\n",
       "      <td>181.220001</td>\n",
       "      <td>187.199997</td>\n",
       "      <td>188.466373</td>\n",
       "      <td>202.430400</td>\n",
       "      <td>218.499533</td>\n",
       "    </tr>\n",
       "    <tr>\n",
       "      <th>71</th>\n",
       "      <td>2022-06-06</td>\n",
       "      <td>191.389999</td>\n",
       "      <td>193.369995</td>\n",
       "      <td>168.690002</td>\n",
       "      <td>169.740005</td>\n",
       "      <td>183.115982</td>\n",
       "      <td>197.401109</td>\n",
       "      <td>214.598771</td>\n",
       "    </tr>\n",
       "  </tbody>\n",
       "</table>\n",
       "</div>"
      ],
      "text/plain": [
       "         Date        Open        High         Low       Close        EMA6  \\\n",
       "67 2022-05-09  180.339996  182.550003  155.669998  177.059998  198.269329   \n",
       "68 2022-05-16  175.089996  183.710007  157.550003  166.940002  189.318093   \n",
       "69 2022-05-23  162.740005  188.809998  157.800003  188.110001  188.972924   \n",
       "70 2022-05-30  189.800003  196.190002  181.220001  187.199997  188.466373   \n",
       "71 2022-06-06  191.389999  193.369995  168.690002  169.740005  183.115982   \n",
       "\n",
       "         EMA12       EMA24  \n",
       "67  215.827986  229.070944  \n",
       "68  208.306758  224.100469  \n",
       "69  205.199565  221.221231  \n",
       "70  202.430400  218.499533  \n",
       "71  197.401109  214.598771  "
      ]
     },
     "execution_count": 14,
     "metadata": {},
     "output_type": "execute_result"
    }
   ],
   "source": [
    "#trading_formation\n",
    "trading_formation = stock.iloc[len(stock)-6:-1]\n",
    "trading_formation"
   ]
  },
  {
   "cell_type": "code",
   "execution_count": null,
   "metadata": {},
   "outputs": [],
   "source": []
  },
  {
   "cell_type": "code",
   "execution_count": 15,
   "metadata": {},
   "outputs": [
    {
     "name": "stdout",
     "output_type": "stream",
     "text": [
      "Entry price is:  193.37\n",
      "\n",
      "Raw prediction is:  200.9725\n",
      "Raw profit is:  395.332\n",
      "\n",
      "Penalised prediction is:  200.9725\n",
      "Penalised Profit is:  395.3318\n"
     ]
    }
   ],
   "source": [
    "budget = 10000\n",
    "\n",
    "penalisation = 0\n",
    "acceptance = 1\n",
    "\n",
    "pred = Predict(trading_formation)\n",
    "profit_raw = Profit_calculation(budget, entry, pred)\n",
    "\n",
    "ppred = round(pred-penalisation,5)\n",
    "profit_pen = Profit_calculation(budget, entry, ppred)\n",
    "    \n",
    "if np.max([pred,ppred])-entry > 0:\n",
    "    print(\"Entry price is: \",round(entry,4))\n",
    "    print(\"\\nRaw prediction is: \",np.round(pred,4))\n",
    "    print(\"Raw profit is: \",round(profit_raw,4))\n",
    "    print(\"\\nPenalised prediction is: \",round(ppred,4))\n",
    "    print(\"Penalised Profit is: \",round(profit_pen,4))\n",
    "\n",
    "else:\n",
    "    print(\"Prediction is NOT profitable\")\n",
    "    print(\"\\npredictions: \",pred,ppred)\n",
    "    print(\"\\nEntry price: \",round(entry,4))\n",
    "    print(\"Max Prediction: \",round(np.max([pred,ppred]),4))"
   ]
  },
  {
   "cell_type": "markdown",
   "metadata": {},
   "source": [
    "<b>Plot chart</b>"
   ]
  },
  {
   "cell_type": "code",
   "execution_count": 16,
   "metadata": {},
   "outputs": [
    {
     "data": {
      "image/png": "[encoded data removed]",
      "text/plain": [
       "<Figure size 800x575 with 2 Axes>"
      ]
     },
     "metadata": {},
     "output_type": "display_data"
    }
   ],
   "source": [
    "import mplfinance as mpf\n",
    "\n",
    "selected_df = trading_formation.reset_index()\n",
    "#print(selected_df)\n",
    "\n",
    "#Get EMAs\n",
    "dates = selected_df['Date']\n",
    "\n",
    "#Get EMAs\n",
    "dates = selected_df['Date']\n",
    "ema6 = selected_df['EMA6']\n",
    "ema12 = selected_df['EMA12']\n",
    "ema24 = selected_df['EMA24']\n",
    "\n",
    "datepairs_ema6 = [(d1,d2) for d1,d2 in zip(dates,ema6)]\n",
    "datepairs_ema12 = [(d1,d2) for d1,d2 in zip(dates,ema12)]\n",
    "datepairs_ema24 = [(d1,d2) for d1,d2 in zip(dates,ema24)]\n",
    "\n",
    "#Format Dataframe\n",
    "quotes = selected_df.iloc[:,:10]\n",
    "quotes['Date'] = quotes['Date'].astype('datetime64')\n",
    "quotes = quotes.set_index('Date')\n",
    "\n",
    "try: \n",
    "    quotes = quotes.drop('index',axis=1)\n",
    "except:\n",
    "    pass\n",
    "  \n",
    "#Plot\n",
    "quotes = quotes.iloc[:,:8]\n",
    "quotes\n",
    "quotes.columns=['open','high','low','close','ema6','ema12','ema24']\n",
    "quotes\n",
    "#Plot Chart\n",
    "mpf.plot(quotes,type='candle',alines=dict(alines=[datepairs_ema6,datepairs_ema12,datepairs_ema24],colors=['r','g','b']))"
   ]
  },
  {
   "cell_type": "code",
   "execution_count": null,
   "metadata": {},
   "outputs": [],
   "source": []
  },
  {
   "cell_type": "code",
   "execution_count": null,
   "metadata": {},
   "outputs": [],
   "source": []
  },
  {
   "cell_type": "code",
   "execution_count": null,
   "metadata": {},
   "outputs": [],
   "source": []
  },
  {
   "cell_type": "code",
   "execution_count": null,
   "metadata": {},
   "outputs": [],
   "source": []
  }
 ],
 "metadata": {
  "kernelspec": {
   "display_name": "Python 3",
   "language": "python",
   "name": "python3"
  },
  "language_info": {
   "codemirror_mode": {
    "name": "ipython",
    "version": 3
   },
   "file_extension": ".py",
   "mimetype": "text/x-python",
   "name": "python",
   "nbconvert_exporter": "python",
   "pygments_lexer": "ipython3",
   "version": "3.8.3"
  }
 },
 "nbformat": 4,
 "nbformat_minor": 4
}
